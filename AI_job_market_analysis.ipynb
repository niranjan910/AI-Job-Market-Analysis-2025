{
 "cells": [
  {
   "cell_type": "markdown",
   "id": "c6a02519-a3d9-4f99-b5b4-bd6edb6a459a",
   "metadata": {},
   "source": [
    "### *2025 AI Job Market Analysis: Salaries, Skills, and Hiring Trends*\n",
    "\n",
    "#### 🎯 *Business Problem*\n",
    "*In the dynamic and fast-growing field of artificial intelligence, both companies and professionals face significant challenges in understanding global hiring trends, salary expectations, and skill demands. As AI roles continue to diversify across industries and regions, it's crucial to identify how factors such as job title, experience level, company size, employment type, remote flexibility, required skills, and educational background influence compensation and hiring patterns.*\n",
    "\n",
    "*This project aims to analyze a global dataset of AI-related job postings from 2025 to uncover key insights on:*\n",
    "\n",
    "- *Competitive salary ranges across roles, locations, and experience levels*\n",
    "- *The impact of remote work, required skills, and education on job offers*\n",
    "- *Application timelines and company-level hiring behaviors*\n",
    "\n",
    "*The ultimate goal is to help:*\n",
    "\n",
    "- *Organizations benchmark salaries, structure job roles, and optimize talent acquisition strategies*\n",
    "- *Job seekers identify high-growth opportunities, understand skill-based compensation, and align their career planning with market demands*\n",
    "\n",
    "*This end-to-end data analysis project covers data cleaning, feature engineering, trend analysis, and insight generation — providing a real-world foundation for AI job market intelligence.*\n",
    "\n",
    "#### 🔧 *Tools Used* \n",
    "*Python, Pandas, Matplotlib, Seaborn*\n",
    "\n",
    "#### *Size of Dataset 2608 KB*\n",
    "\n",
    "\n",
    "#### *Author* - *Niranjan (Data Analyst)*"
   ]
  },
  {
   "cell_type": "markdown",
   "id": "52c6715a-3992-478c-8afe-3c0c761e07f9",
   "metadata": {},
   "source": [
    "### *Environmental Setup*\n",
    "#### *⚙️ Importing Essential Libraries*"
   ]
  },
  {
   "cell_type": "code",
   "execution_count": null,
   "id": "2d023737-706f-43fa-9c82-c84738bf9527",
   "metadata": {},
   "outputs": [],
   "source": [
    "import pandas as pd\n",
    "import numpy as np\n",
    "import matplotlib.pyplot as plt\n",
    "import seaborn as sns\n",
    "from collections import Counter\n",
    "import warnings\n",
    "warnings.filterwarnings(\"ignore\")"
   ]
  },
  {
   "cell_type": "markdown",
   "id": "e548f02c-1cc8-49ef-a3cb-7c7cb67e280c",
   "metadata": {},
   "source": [
    "### *Data Loading*\n",
    "#### *📂 Loading the Dataset*"
   ]
  },
  {
   "cell_type": "code",
   "execution_count": null,
   "id": "7feb99ba-fd4a-4598-92b8-1fdf09edf095",
   "metadata": {},
   "outputs": [],
   "source": [
    "df = pd.read_csv(\"ai_job_dataset.csv\")"
   ]
  },
  {
   "cell_type": "markdown",
   "id": "9ae98b50-86cc-46b7-8575-69e35209d3f3",
   "metadata": {},
   "source": [
    "### *Data Understanding*\n",
    "#### *🔍Initial Data Inspection*"
   ]
  },
  {
   "cell_type": "code",
   "execution_count": null,
   "id": "2b81235d-384a-441a-a17f-581940ae9b49",
   "metadata": {},
   "outputs": [],
   "source": [
    "df.shape"
   ]
  },
  {
   "cell_type": "code",
   "execution_count": null,
   "id": "4c3b9ab1-f59c-48fe-91d1-8c5cbe5a6e6d",
   "metadata": {},
   "outputs": [],
   "source": [
    "df.columns.tolist()"
   ]
  },
  {
   "cell_type": "code",
   "execution_count": null,
   "id": "9a6dffcf-5d5f-4f2f-8609-f9656767f914",
   "metadata": {},
   "outputs": [],
   "source": [
    "df.dtypes"
   ]
  },
  {
   "cell_type": "code",
   "execution_count": null,
   "id": "05c83045-9641-4b3c-8928-c838175cc303",
   "metadata": {},
   "outputs": [],
   "source": [
    "df.head(3)"
   ]
  },
  {
   "cell_type": "code",
   "execution_count": null,
   "id": "91ce0b76-9a48-48c9-8ff2-4e3619a9b251",
   "metadata": {},
   "outputs": [],
   "source": [
    "df.isna().sum()"
   ]
  },
  {
   "cell_type": "markdown",
   "id": "6062ee55-94f6-46d0-accc-08fb95c135cc",
   "metadata": {},
   "source": [
    "### *Data Exploration*\n",
    "#### *🔎 Analyzing Patterns & Distributions*"
   ]
  },
  {
   "cell_type": "markdown",
   "id": "1e44f1f5-08cf-4ce9-9a93-66df1d59596e",
   "metadata": {},
   "source": [
    "#### 🆔 *Job ID*\n",
    "- *Data type is object*\n",
    "- *All unique values*\n",
    "- *We can drop the column as Id is not needed for Data Analysis*\n",
    "- *No missing vlues present*\n",
    "- *all unique values in this column*"
   ]
  },
  {
   "cell_type": "code",
   "execution_count": null,
   "id": "5c91ee06-0567-4b31-be24-58b34461aa76",
   "metadata": {},
   "outputs": [],
   "source": [
    "df['job_id'].dtype"
   ]
  },
  {
   "cell_type": "code",
   "execution_count": null,
   "id": "befdf1ec-b159-4ab3-9c39-638fdbc1e4ec",
   "metadata": {},
   "outputs": [],
   "source": [
    "df[\"job_id\"].nunique()"
   ]
  },
  {
   "cell_type": "code",
   "execution_count": null,
   "id": "2a067d55-632e-4dbf-8373-096c3f9a5d8a",
   "metadata": {},
   "outputs": [],
   "source": [
    "df[\"job_id\"].unique()"
   ]
  },
  {
   "cell_type": "markdown",
   "id": "e3f7a5a2-15d4-438a-88e8-a3e6fcb19e73",
   "metadata": {},
   "source": [
    "#### 🧠 *Job Title*\n",
    "- *Data type is object*\n",
    "- *All categories of job tittle*\n",
    "- *No missing avlues present*\n",
    "- *Total 20 unique values*\n",
    "- *Machine Learning Researcher has the highest*\n",
    "- *Some of them are repeating*\n",
    "- *2nd highest is AI Software Engineer*\n",
    "- *No missing values present in the column*"
   ]
  },
  {
   "cell_type": "code",
   "execution_count": null,
   "id": "21e4d56a-b0b7-41aa-b686-56c186e43f5b",
   "metadata": {},
   "outputs": [],
   "source": [
    "df['job_title'].dtype"
   ]
  },
  {
   "cell_type": "code",
   "execution_count": null,
   "id": "78488450-e981-4be3-bfac-ed9d1618d4c4",
   "metadata": {},
   "outputs": [],
   "source": [
    "df[\"job_title\"].nunique()"
   ]
  },
  {
   "cell_type": "code",
   "execution_count": null,
   "id": "0178cd4e-12d2-47de-88a2-217e0e003d85",
   "metadata": {},
   "outputs": [],
   "source": [
    "df[\"job_title\"].unique()"
   ]
  },
  {
   "cell_type": "code",
   "execution_count": null,
   "id": "1774750c-f5a5-4af8-adc9-c81a31a83e97",
   "metadata": {},
   "outputs": [],
   "source": [
    "df[\"job_title\"].value_counts()"
   ]
  },
  {
   "cell_type": "code",
   "execution_count": null,
   "id": "cdff4f22-082a-4ec3-bd11-b89ae18a2222",
   "metadata": {},
   "outputs": [],
   "source": [
    "top_10_jobs = df['job_title'].value_counts().nlargest(10)\n",
    "\n",
    "plt.figure(figsize=(10, 6))\n",
    "sns.barplot(x=top_10_jobs.values, y=top_10_jobs.index, palette='viridis')\n",
    "plt.title('Top 10 Job Titles by Count')\n",
    "plt.xlabel('Count')\n",
    "plt.ylabel('Job Title')\n",
    "plt.tight_layout()\n",
    "plt.show()"
   ]
  },
  {
   "cell_type": "markdown",
   "id": "0d57bb0f-a202-4c7a-a60d-3bdfe0960ee9",
   "metadata": {},
   "source": [
    "#### 💵 *Salary usd*\n",
    "- *Continous Column*\n",
    "- *14315 unique values*\n",
    "- *Some of the job tittles are repeating*\n",
    "- *Right Skewed*\n",
    "- *Outlier Present*\n",
    "- *No missing values present*"
   ]
  },
  {
   "cell_type": "code",
   "execution_count": null,
   "id": "615bcac3-b2cc-4bee-a66c-bd755154a6ab",
   "metadata": {},
   "outputs": [],
   "source": [
    "df['salary_usd'].dtype"
   ]
  },
  {
   "cell_type": "code",
   "execution_count": null,
   "id": "3585d98b-5816-455f-bf00-b30a13c0a67a",
   "metadata": {},
   "outputs": [],
   "source": [
    "df[\"salary_usd\"].nunique()"
   ]
  },
  {
   "cell_type": "code",
   "execution_count": null,
   "id": "9157d76a-b758-42cc-b35b-9c0357ebb191",
   "metadata": {},
   "outputs": [],
   "source": [
    "df[\"salary_usd\"].unique()"
   ]
  },
  {
   "cell_type": "code",
   "execution_count": null,
   "id": "2c032601-b097-4dd9-bdd3-3caa1bb5b95f",
   "metadata": {},
   "outputs": [],
   "source": [
    "df[\"salary_usd\"].describe()"
   ]
  },
  {
   "cell_type": "code",
   "execution_count": null,
   "id": "f6a77628-e9ac-4b68-a165-09c419a911c5",
   "metadata": {},
   "outputs": [],
   "source": [
    "df[\"salary_usd\"].skew()"
   ]
  },
  {
   "cell_type": "code",
   "execution_count": null,
   "id": "c711c079-44a9-4b0b-ae2f-4417d22375a1",
   "metadata": {},
   "outputs": [],
   "source": [
    "sns.histplot(data = df, x = \"salary_usd\", kde = True)"
   ]
  },
  {
   "cell_type": "code",
   "execution_count": null,
   "id": "0fc82705-3661-4e11-913c-af3b21f27ef3",
   "metadata": {},
   "outputs": [],
   "source": [
    "sns.boxplot(data = df, x = \"salary_usd\")"
   ]
  },
  {
   "cell_type": "markdown",
   "id": "b9b77cbc-8e77-489b-9faa-8e8ea878b7b6",
   "metadata": {},
   "source": [
    "#### 💵 *Salary currency*\n",
    "- *Data type is object*\n",
    "- *3 unique values*\n",
    "- *Categorical Column*\n",
    "- *USD is the highest*\n",
    "- *Great Britain Pound is the lowest*\n",
    "- *No missing values present in the column*"
   ]
  },
  {
   "cell_type": "code",
   "execution_count": null,
   "id": "0fb4620e-d4e4-41b0-97c7-98ce79abf503",
   "metadata": {},
   "outputs": [],
   "source": [
    "df['salary_currency'].dtype"
   ]
  },
  {
   "cell_type": "code",
   "execution_count": null,
   "id": "e8655d03-98b8-479f-af75-c0938bdec5f3",
   "metadata": {},
   "outputs": [],
   "source": [
    "df['salary_currency'].nunique()"
   ]
  },
  {
   "cell_type": "code",
   "execution_count": null,
   "id": "fb381408-d1e5-4fbe-b95a-32bf8a1ba62e",
   "metadata": {},
   "outputs": [],
   "source": [
    "df['salary_currency'].unique()"
   ]
  },
  {
   "cell_type": "code",
   "execution_count": null,
   "id": "ec79e201-edde-4bfc-ab1e-043508e0c9dc",
   "metadata": {},
   "outputs": [],
   "source": [
    "df['salary_currency'].value_counts()"
   ]
  },
  {
   "cell_type": "code",
   "execution_count": null,
   "id": "423a40ef-9074-4d0d-948b-8539aa31ae9f",
   "metadata": {},
   "outputs": [],
   "source": [
    "sns.countplot(x='salary_currency', data = df ,palette = \"viridis\")"
   ]
  },
  {
   "cell_type": "markdown",
   "id": "1acc25b8-4c2a-40f2-b5f7-39e21da9933a",
   "metadata": {},
   "source": [
    "#### 📈 *Experience level*\n",
    "- *Data type is object*\n",
    "- *4 distinct unique categories*\n",
    "- *Highest employee is \tMid-level (experienced but not senior)*\n",
    "- *Lowest is entry level*\n",
    "- *No missing values present*"
   ]
  },
  {
   "cell_type": "code",
   "execution_count": null,
   "id": "16acc414-62d3-47d1-965c-76199b852a6c",
   "metadata": {},
   "outputs": [],
   "source": [
    "df['experience_level'].dtype"
   ]
  },
  {
   "cell_type": "code",
   "execution_count": null,
   "id": "04c50d3a-fe40-45b6-9601-6ef5e03b6c75",
   "metadata": {},
   "outputs": [],
   "source": [
    "df['experience_level'].nunique()"
   ]
  },
  {
   "cell_type": "code",
   "execution_count": null,
   "id": "89ac4ae9-902a-49ac-b634-cadfb5f20141",
   "metadata": {},
   "outputs": [],
   "source": [
    "df['experience_level'].unique()"
   ]
  },
  {
   "cell_type": "code",
   "execution_count": null,
   "id": "712def89-43b5-4ff2-ad63-092b87d5718b",
   "metadata": {},
   "outputs": [],
   "source": [
    "df['experience_level'].value_counts()"
   ]
  },
  {
   "cell_type": "code",
   "execution_count": null,
   "id": "08c90fd5-602f-4140-b48a-0192e767b1e8",
   "metadata": {},
   "outputs": [],
   "source": [
    "sns.countplot(x='experience_level', data = df,palette = \"viridis\")"
   ]
  },
  {
   "cell_type": "markdown",
   "id": "32ead509-e092-4e34-a340-ee27773ec9a5",
   "metadata": {},
   "source": [
    "#### 👔 *Employment type*\n",
    "- *Data type is object*\n",
    "- *Categorical column*\n",
    "- *4 unique categories*\n",
    "- *Full - time employement is the highest*\n",
    "- *Part - Time employment is the lowest*\n",
    "- *No missing values present in the data set*"
   ]
  },
  {
   "cell_type": "code",
   "execution_count": null,
   "id": "acd47a71-2509-446e-b583-c5c662c19abd",
   "metadata": {},
   "outputs": [],
   "source": [
    "df['employment_type'].dtype"
   ]
  },
  {
   "cell_type": "code",
   "execution_count": null,
   "id": "6b3678c8-ecc6-4567-b107-e13cf097934d",
   "metadata": {},
   "outputs": [],
   "source": [
    "df['employment_type'].nunique()"
   ]
  },
  {
   "cell_type": "code",
   "execution_count": null,
   "id": "69ff99c5-b3c8-4fd0-8977-cc1210ad100d",
   "metadata": {},
   "outputs": [],
   "source": [
    "df['employment_type'].unique()"
   ]
  },
  {
   "cell_type": "code",
   "execution_count": null,
   "id": "014d9db1-4dd2-43d3-ba52-2cd9426a9240",
   "metadata": {},
   "outputs": [],
   "source": [
    "df['employment_type'].value_counts()"
   ]
  },
  {
   "cell_type": "code",
   "execution_count": null,
   "id": "7febf01d-2eaf-4b81-9225-098f7cabdad3",
   "metadata": {},
   "outputs": [],
   "source": [
    "sns.countplot(x='employment_type', data=df,palette = \"viridis\")"
   ]
  },
  {
   "cell_type": "markdown",
   "id": "fa6cda4e-a125-4a8f-8920-ba008b3828ca",
   "metadata": {},
   "source": [
    "#### 🌍 *Company location*\n",
    "- *Data type is object*\n",
    "- *20 unique locations*\n",
    "- *20 Company Locations*\n",
    "- *Germany is the highest among them*\n",
    "- *Norway is the lowest among them*\n",
    "- *No missing values present in the data set*"
   ]
  },
  {
   "cell_type": "code",
   "execution_count": null,
   "id": "a4f523a8-1a50-47b1-9a8c-bf10bf21f141",
   "metadata": {},
   "outputs": [],
   "source": [
    "df['company_location'].dtype"
   ]
  },
  {
   "cell_type": "code",
   "execution_count": null,
   "id": "f3dc432a-a3b9-4f36-83fe-41772063b1a9",
   "metadata": {},
   "outputs": [],
   "source": [
    "df['company_location'].nunique()"
   ]
  },
  {
   "cell_type": "code",
   "execution_count": null,
   "id": "cded629a-b863-4e05-be78-19010dcb2bb1",
   "metadata": {},
   "outputs": [],
   "source": [
    "df['company_location'].unique()"
   ]
  },
  {
   "cell_type": "code",
   "execution_count": null,
   "id": "a9b39867-4705-4bc9-92ad-553f3d57125e",
   "metadata": {},
   "outputs": [],
   "source": [
    "df['company_location'].value_counts()"
   ]
  },
  {
   "cell_type": "code",
   "execution_count": null,
   "id": "fa03f43d-0491-444c-bf39-7390973ba517",
   "metadata": {},
   "outputs": [],
   "source": [
    "top_10_jobs = df['company_location'].value_counts().nlargest(10)\n",
    "\n",
    "plt.figure(figsize=(10, 6))\n",
    "sns.barplot(x=top_10_jobs.values, y=top_10_jobs.index, palette='viridis')\n",
    "plt.title('Top 10 Company location')\n",
    "plt.xlabel('Count')\n",
    "plt.ylabel('Job Location')\n",
    "plt.tight_layout()\n",
    "plt.show()"
   ]
  },
  {
   "cell_type": "markdown",
   "id": "8142f943-9f93-439c-bd66-f8db468f3915",
   "metadata": {},
   "source": [
    "#### 🌍 *Company size*\n",
    "- *Data type is object*\n",
    "- *4 unique values or catgeries*\n",
    "- *Categorical colummn*\n",
    "- *Categorical column*\n",
    "- *Data Type object*\n",
    "- *Comany size is small is the highest*\n",
    "- *No missing values present in the data set*"
   ]
  },
  {
   "cell_type": "code",
   "execution_count": null,
   "id": "ba06fd82-4c0d-461c-8162-3a31891d21f1",
   "metadata": {},
   "outputs": [],
   "source": [
    "df['company_size'].dtype"
   ]
  },
  {
   "cell_type": "code",
   "execution_count": null,
   "id": "42013d93-8ddd-4ee3-b8dd-4e73f9b4e6df",
   "metadata": {},
   "outputs": [],
   "source": [
    "df['company_size'].nunique()"
   ]
  },
  {
   "cell_type": "code",
   "execution_count": null,
   "id": "abb32935-8544-4814-a193-41d89a2dce8f",
   "metadata": {},
   "outputs": [],
   "source": [
    "df['company_size'].unique()"
   ]
  },
  {
   "cell_type": "code",
   "execution_count": null,
   "id": "d8a79427-936a-4677-b778-7a1c8bba4f3a",
   "metadata": {},
   "outputs": [],
   "source": [
    "df['company_size'].value_counts()"
   ]
  },
  {
   "cell_type": "code",
   "execution_count": null,
   "id": "2c5b3ee5-8195-4b2e-8ffd-49c4f31b9d47",
   "metadata": {},
   "outputs": [],
   "source": [
    "sns.countplot(x='company_size', data=df,palette = \"viridis\")"
   ]
  },
  {
   "cell_type": "markdown",
   "id": "b1792019-0b66-4995-be6d-1620bf31a63a",
   "metadata": {},
   "source": [
    "#### 🧑‍💼 *Employee residence*\n",
    "- *Data type is object*\n",
    "- *20 unique employees residencr locations*\n",
    "- *Data Type object*\n",
    "- *Most employees are from sweeden*\n",
    "- *Japan is the lowest*\n",
    "- *No missing values present in the data set*"
   ]
  },
  {
   "cell_type": "code",
   "execution_count": null,
   "id": "abac6245-37bc-404c-bbe2-0d4ec2638fc9",
   "metadata": {},
   "outputs": [],
   "source": [
    "df['employee_residence'].dtype"
   ]
  },
  {
   "cell_type": "code",
   "execution_count": null,
   "id": "9c062260-e991-4198-957f-3b6f4e4e3909",
   "metadata": {},
   "outputs": [],
   "source": [
    "df['employee_residence'].nunique()"
   ]
  },
  {
   "cell_type": "code",
   "execution_count": null,
   "id": "39e70564-d44b-49e7-af0d-7a4936c778cc",
   "metadata": {},
   "outputs": [],
   "source": [
    "df['employee_residence'].unique()"
   ]
  },
  {
   "cell_type": "code",
   "execution_count": null,
   "id": "ca83a2aa-7c95-4918-91e1-30064d8746ed",
   "metadata": {},
   "outputs": [],
   "source": [
    "df['employee_residence'].value_counts()"
   ]
  },
  {
   "cell_type": "markdown",
   "id": "da56dca4-2686-477e-8134-bc6dbbc6ca17",
   "metadata": {},
   "source": [
    "#### 🌐 *Remote ratio*\n",
    "- *Int data type*\n",
    "- *Categorical column*\n",
    "- *3 Categories present in the data set*\n",
    "- *No missing values present in the data set*\n",
    "- *Large number are on Fully Onsite (No remote work)*"
   ]
  },
  {
   "cell_type": "code",
   "execution_count": null,
   "id": "053dcefd-1116-40a3-a504-67f541cd27cb",
   "metadata": {},
   "outputs": [],
   "source": [
    "df['remote_ratio'].dtype"
   ]
  },
  {
   "cell_type": "code",
   "execution_count": null,
   "id": "f967ee5c-7bb2-456c-9c0c-82d6030baa96",
   "metadata": {},
   "outputs": [],
   "source": [
    "df['remote_ratio'].nunique()"
   ]
  },
  {
   "cell_type": "code",
   "execution_count": null,
   "id": "c252b67d-eb70-4505-ac43-ca3095c63c99",
   "metadata": {},
   "outputs": [],
   "source": [
    "df['remote_ratio'].unique()"
   ]
  },
  {
   "cell_type": "code",
   "execution_count": null,
   "id": "2362c52a-fd11-49d4-a5aa-03142202ee99",
   "metadata": {},
   "outputs": [],
   "source": [
    "df['remote_ratio'].value_counts()"
   ]
  },
  {
   "cell_type": "markdown",
   "id": "5221fddf-aa69-4aa7-89fa-323c3b968c6c",
   "metadata": {},
   "source": [
    "#### 🧑‍🔬 *Required skills*\n",
    "- *Data Type is object*\n",
    "- *Python, TensorFlow, PyTorch*\n",
    "- *No missing values present in the data set*\n",
    "- *13663 unique skills in the data set*"
   ]
  },
  {
   "cell_type": "code",
   "execution_count": null,
   "id": "db9119b7-8b0b-40e5-a37a-cdd6968ec91a",
   "metadata": {},
   "outputs": [],
   "source": [
    "df['required_skills'].dtype"
   ]
  },
  {
   "cell_type": "code",
   "execution_count": null,
   "id": "28f8be4a-89da-4f06-963f-72b51663c021",
   "metadata": {},
   "outputs": [],
   "source": [
    "df['required_skills'].nunique()"
   ]
  },
  {
   "cell_type": "code",
   "execution_count": null,
   "id": "e6faf44e-6a2b-4f8f-9c66-95f9a6caf684",
   "metadata": {},
   "outputs": [],
   "source": [
    "df['required_skills'].unique()"
   ]
  },
  {
   "cell_type": "code",
   "execution_count": null,
   "id": "24339e7e-8384-4731-8965-bc39c65b70a0",
   "metadata": {},
   "outputs": [],
   "source": [
    "df['required_skills'].value_counts()"
   ]
  },
  {
   "cell_type": "code",
   "execution_count": null,
   "id": "510816a2-b8c8-4a8a-87a7-77cb07cae612",
   "metadata": {},
   "outputs": [],
   "source": [
    "top_10_jobs = df['required_skills'].value_counts().nlargest(10)\n",
    "\n",
    "plt.figure(figsize=(10, 6))\n",
    "sns.barplot(x=top_10_jobs.values, y=top_10_jobs.index, palette='viridis')\n",
    "plt.title('Top 10 Required skills')\n",
    "plt.xlabel('Count')\n",
    "plt.ylabel('Skills')\n",
    "plt.tight_layout()\n",
    "plt.show()"
   ]
  },
  {
   "cell_type": "markdown",
   "id": "dd5153bd-10f4-4628-b544-de38b7cd604a",
   "metadata": {},
   "source": [
    "#### 🎓 *Education Required*\n",
    "- *Data Type is object*\n",
    "- *4 unique values or columns*\n",
    "- *Bachelor is the highest with the numbers as 3789*\n",
    "- *while phd is the lowest with 3678 numbers*\n",
    "- *No missing values present*"
   ]
  },
  {
   "cell_type": "code",
   "execution_count": null,
   "id": "322478e8-396c-4f20-86e9-aac97b566921",
   "metadata": {},
   "outputs": [],
   "source": [
    "df['education_required'].dtype"
   ]
  },
  {
   "cell_type": "code",
   "execution_count": null,
   "id": "93a33d06-293f-44f0-be4b-0a5a07736681",
   "metadata": {},
   "outputs": [],
   "source": [
    "df['education_required'].nunique()"
   ]
  },
  {
   "cell_type": "code",
   "execution_count": null,
   "id": "8b9c7dea-ce2c-4516-99c0-6454fbd2d4da",
   "metadata": {},
   "outputs": [],
   "source": [
    "df['education_required'].unique()"
   ]
  },
  {
   "cell_type": "code",
   "execution_count": null,
   "id": "67272f8a-3955-4d01-af0b-e4062be23a28",
   "metadata": {},
   "outputs": [],
   "source": [
    "df['education_required'].value_counts()"
   ]
  },
  {
   "cell_type": "markdown",
   "id": "a6f86792-bc14-4fdf-86c7-dd83f956fada",
   "metadata": {},
   "source": [
    "#### 🎓 *Years experience*\n",
    "- *Data Type is Int*\n",
    "- *20 unique values*\n",
    "- *Years of experiece*\n",
    "- *Most are fresher*\n",
    "- *Send most highest is the employees with 1 year of experiece*\n",
    "- *No missing values present in the column*\n",
    "- *No outliers present*"
   ]
  },
  {
   "cell_type": "code",
   "execution_count": null,
   "id": "25c58064-2f51-47d7-ba02-0752c5d41436",
   "metadata": {},
   "outputs": [],
   "source": [
    "df['years_experience'].dtype"
   ]
  },
  {
   "cell_type": "code",
   "execution_count": null,
   "id": "9d86cca6-3074-4c43-8a91-902b676dff71",
   "metadata": {},
   "outputs": [],
   "source": [
    "df['years_experience'].nunique()"
   ]
  },
  {
   "cell_type": "code",
   "execution_count": null,
   "id": "caebb596-13e2-4db1-aebc-306b4c9c69be",
   "metadata": {},
   "outputs": [],
   "source": [
    "df['years_experience'].unique()"
   ]
  },
  {
   "cell_type": "code",
   "execution_count": null,
   "id": "b8b0f946-d82d-40ea-957a-8bb3f88e07f6",
   "metadata": {},
   "outputs": [],
   "source": [
    "df['years_experience'].value_counts()"
   ]
  },
  {
   "cell_type": "code",
   "execution_count": null,
   "id": "50703803-3e92-41e8-b8fd-50f4088c0053",
   "metadata": {},
   "outputs": [],
   "source": [
    "sns.boxplot(data = df, x = 'years_experience')"
   ]
  },
  {
   "cell_type": "code",
   "execution_count": null,
   "id": "4ffe5e4d-bbef-41ef-ae1f-ef05ec986831",
   "metadata": {},
   "outputs": [],
   "source": [
    "top_10_jobs = df['years_experience'].value_counts().nlargest(10)\n",
    "\n",
    "plt.figure(figsize=(10, 6))\n",
    "sns.barplot(x=top_10_jobs.index, y=top_10_jobs.values, palette='viridis')\n",
    "plt.title('Top 10 Experience in years')\n",
    "plt.xlabel('Count')\n",
    "plt.ylabel('Years of experice')\n",
    "plt.tight_layout()\n",
    "plt.show()"
   ]
  },
  {
   "cell_type": "markdown",
   "id": "9cfd4d4c-d2c1-47fc-bfeb-269644360f3e",
   "metadata": {},
   "source": [
    "#### 🎓 *Industry*\n",
    "- *Data type is object*\n",
    "- *15 unique values*\n",
    "- *Categorical column*\n",
    "- *Highest from the retail industry*\n",
    "- *Lowest is from the education industry*\n",
    "- *No missing values presetn in the colummn*"
   ]
  },
  {
   "cell_type": "code",
   "execution_count": null,
   "id": "989ddd20-8dc6-4fcb-9fe8-f84042a201fb",
   "metadata": {},
   "outputs": [],
   "source": [
    "df['industry'].dtype"
   ]
  },
  {
   "cell_type": "code",
   "execution_count": null,
   "id": "64d77318-5356-47ec-8d62-c1a80889e85a",
   "metadata": {},
   "outputs": [],
   "source": [
    "df['industry'].nunique()"
   ]
  },
  {
   "cell_type": "code",
   "execution_count": null,
   "id": "4c392982-cdf3-498b-a888-ffbc2dcb9b29",
   "metadata": {},
   "outputs": [],
   "source": [
    "df['industry'].unique()"
   ]
  },
  {
   "cell_type": "code",
   "execution_count": null,
   "id": "f6587dd9-7e00-49b0-93f5-ed6e442fdb38",
   "metadata": {},
   "outputs": [],
   "source": [
    "df['industry'].value_counts()"
   ]
  },
  {
   "cell_type": "markdown",
   "id": "149d57b4-7a2f-413f-a277-f33f930a9ca3",
   "metadata": {},
   "source": [
    "#### 📅 *Posting date*\n",
    "- *Time series column*\n",
    "- *Data type is object*\n",
    "- *Posting data records are from - '2024-01-01', '2025-04-30'*\n",
    "- *Most of the posting date are from 2024-07-05*"
   ]
  },
  {
   "cell_type": "code",
   "execution_count": null,
   "id": "ce4ba6b3-a4b0-416b-84cd-0ccbd81a0c39",
   "metadata": {},
   "outputs": [],
   "source": [
    "df['posting_date'].dtype"
   ]
  },
  {
   "cell_type": "code",
   "execution_count": null,
   "id": "ec89e1f0-853b-4a0d-9734-815871151653",
   "metadata": {},
   "outputs": [],
   "source": [
    "df['posting_date'].min(),df['posting_date'].max()"
   ]
  },
  {
   "cell_type": "code",
   "execution_count": null,
   "id": "68622b3b-35af-4fbd-bfce-88fe669cd9a4",
   "metadata": {},
   "outputs": [],
   "source": [
    "df['posting_date'].value_counts().sort_index()"
   ]
  },
  {
   "cell_type": "markdown",
   "id": "88ce0b6c-6898-4bf2-abee-bacc2c20fd80",
   "metadata": {},
   "source": [
    "#### 📅 *Application Deadline*\n",
    "- *Data type is object*\n",
    "- *534 unique values*\n",
    "- *Records are from '2024-01-16', '2025-07-11'*\n",
    "- *No missing values in the application deadline column*\n",
    "- *the minimumn and maximumn application deadlines are from - '2024-01-16', '2025-07-11'*\n",
    "- *Most of them have a application deadline as - 2025-01-05*"
   ]
  },
  {
   "cell_type": "code",
   "execution_count": null,
   "id": "c5bbc3f8-6073-4e44-9da5-c2801e4f9a0c",
   "metadata": {},
   "outputs": [],
   "source": [
    "df['application_deadline'].dtype"
   ]
  },
  {
   "cell_type": "code",
   "execution_count": null,
   "id": "a8865e43-f483-4981-bd0b-4ff3059439ca",
   "metadata": {},
   "outputs": [],
   "source": [
    "df['application_deadline'].min(),df['application_deadline'].max()"
   ]
  },
  {
   "cell_type": "code",
   "execution_count": null,
   "id": "03daa91c-5942-46a1-9493-0db5ae3453ad",
   "metadata": {},
   "outputs": [],
   "source": [
    "df['application_deadline'].value_counts().sort_index()"
   ]
  },
  {
   "cell_type": "markdown",
   "id": "959c3109-597a-4a13-8bfd-e080a0334eb7",
   "metadata": {},
   "source": [
    "#### 📄 *Job description length*\n",
    "- *Data type is int64*\n",
    "- *Total unique values is 2000*\n",
    "- *highest job description is 1076 characters and the lowest is with 14999 characters with the numbers as 2492*\n",
    "- *No missing values or nul values*"
   ]
  },
  {
   "cell_type": "code",
   "execution_count": null,
   "id": "ef96bd01-e530-436b-b05e-bf4c2e7d5532",
   "metadata": {},
   "outputs": [],
   "source": [
    "df['job_description_length'].dtype"
   ]
  },
  {
   "cell_type": "code",
   "execution_count": null,
   "id": "025b865f-076a-404a-a9de-598b49dca956",
   "metadata": {},
   "outputs": [],
   "source": [
    "df['job_description_length'].nunique()"
   ]
  },
  {
   "cell_type": "code",
   "execution_count": null,
   "id": "cf37515c-0ccb-4f8a-9bab-2da9457db355",
   "metadata": {},
   "outputs": [],
   "source": [
    "df['job_description_length'].unique()"
   ]
  },
  {
   "cell_type": "code",
   "execution_count": null,
   "id": "c32d5541-8e67-4aab-808a-cd943e73e07a",
   "metadata": {},
   "outputs": [],
   "source": [
    "df['job_description_length'].head(5)"
   ]
  },
  {
   "cell_type": "markdown",
   "id": "947346f9-3f7e-4df1-8e6d-021c1f30ead9",
   "metadata": {},
   "source": [
    "#### 🎁 *Benefits score*\n",
    "- *Data type is float*\n",
    "- *Total number of unique values is 51*\n",
    "- *Categorical Columns*\n",
    "- *Most benefit score is 9.9*\n",
    "- *Lowest benefit score is 5.0*\n",
    "- *No missing avlues in the benefit score column*"
   ]
  },
  {
   "cell_type": "code",
   "execution_count": null,
   "id": "5958ca7d-f31c-479b-aae3-9d086b96bcb3",
   "metadata": {},
   "outputs": [],
   "source": [
    "df['benefits_score'].dtype"
   ]
  },
  {
   "cell_type": "code",
   "execution_count": null,
   "id": "7c877df2-ee1c-4ad1-8e36-942ec6608e70",
   "metadata": {},
   "outputs": [],
   "source": [
    "df['benefits_score'].nunique()"
   ]
  },
  {
   "cell_type": "code",
   "execution_count": null,
   "id": "f0626286-0fc8-4ac3-9f34-89a055dcda73",
   "metadata": {},
   "outputs": [],
   "source": [
    "df['benefits_score'].unique()"
   ]
  },
  {
   "cell_type": "code",
   "execution_count": null,
   "id": "009ed47d-74af-40fe-8e62-be1cf02a2bd7",
   "metadata": {},
   "outputs": [],
   "source": [
    "df['benefits_score'].value_counts().sort_index()"
   ]
  },
  {
   "cell_type": "code",
   "execution_count": null,
   "id": "a35b4c91-7468-4a52-9867-e406d485e609",
   "metadata": {},
   "outputs": [],
   "source": [
    "sns.boxplot(data = df, x = 'benefits_score')"
   ]
  },
  {
   "cell_type": "markdown",
   "id": "2fbdd340-831a-4857-a98e-2ca256a6bb94",
   "metadata": {},
   "source": [
    "#### 🏢 *Company name*\n",
    "- *Data Type is object*\n",
    "- *51 unique values*\n",
    "- *Most of the records are from TechCorp Inc*\n",
    "- *Algorithmic Solutions have the lowest numbers of records*"
   ]
  },
  {
   "cell_type": "code",
   "execution_count": null,
   "id": "0c9a8f64-5e7b-42a7-abcb-ab14d8660a78",
   "metadata": {},
   "outputs": [],
   "source": [
    "df['company_name'].dtype"
   ]
  },
  {
   "cell_type": "code",
   "execution_count": null,
   "id": "3996060c-6e1f-4a99-9073-d85bcd9c8316",
   "metadata": {},
   "outputs": [],
   "source": [
    "df['company_name'].nunique()"
   ]
  },
  {
   "cell_type": "code",
   "execution_count": null,
   "id": "ab7fae04-69d3-4ca0-9358-db9256ece651",
   "metadata": {},
   "outputs": [],
   "source": [
    "df['company_name'].unique()"
   ]
  },
  {
   "cell_type": "code",
   "execution_count": null,
   "id": "56d329a7-f508-4fa2-b1a4-fa0b58819fc3",
   "metadata": {},
   "outputs": [],
   "source": [
    "df['company_name'].value_counts()"
   ]
  },
  {
   "cell_type": "markdown",
   "id": "a91c2e41-c55a-4a03-8d0a-22da15b0f103",
   "metadata": {},
   "source": [
    "### *Data Cleaning*\n",
    "#### *🔧 Preprocessing & Imputation*"
   ]
  },
  {
   "cell_type": "markdown",
   "id": "480b7005-b62b-47f8-bc35-37886bc83d79",
   "metadata": {},
   "source": [
    "#### *Droping columns that are not necessary for the data analysis as per the business problem*"
   ]
  },
  {
   "cell_type": "code",
   "execution_count": null,
   "id": "810997b6-d268-4629-807b-2736d7f0123b",
   "metadata": {},
   "outputs": [],
   "source": [
    "# List of columns to drop\n",
    "cols_to_drop = [\n",
    "    'job_id',\n",
    "    'salary_currency',\n",
    "    'job_description_length'\n",
    "]\n",
    "\n",
    "# Drop the columns\n",
    "df.drop(columns=cols_to_drop, inplace=True)"
   ]
  },
  {
   "cell_type": "markdown",
   "id": "2c53dabb-0d38-47ad-9a14-7c14fdee96ba",
   "metadata": {},
   "source": [
    "#### *Categorical Variable Mapping for Clarity*"
   ]
  },
  {
   "cell_type": "code",
   "execution_count": null,
   "id": "4aa3441b-520f-44f5-bbd3-7cdd05c678e1",
   "metadata": {},
   "outputs": [],
   "source": [
    "exp_map = {\n",
    "    'EN': 'Entry-Level',\n",
    "    'MI': 'Mid-Level',\n",
    "    'SE': 'Senior-Level',\n",
    "    'EX': 'Executive'\n",
    "}\n",
    "\n",
    "df['experience_level'] = df['experience_level'].map(exp_map)"
   ]
  },
  {
   "cell_type": "code",
   "execution_count": null,
   "id": "86cec58f-e871-4b5c-8e11-d31bbecbb414",
   "metadata": {},
   "outputs": [],
   "source": [
    "df['experience_level'].unique()"
   ]
  },
  {
   "cell_type": "code",
   "execution_count": null,
   "id": "decf13c1-b7b4-440b-9f8c-f68a46637871",
   "metadata": {},
   "outputs": [],
   "source": [
    "emp_map = {\n",
    "    'FT': 'Full-Time',\n",
    "    'PT': 'Part-Time',\n",
    "    'CT': 'Contract',\n",
    "    'FL': 'Freelance'\n",
    "}\n",
    "\n",
    "df['employment_type'] = df['employment_type'].map(emp_map)"
   ]
  },
  {
   "cell_type": "code",
   "execution_count": null,
   "id": "eb5dd162-91f1-4af3-82f7-ca4827a58e51",
   "metadata": {},
   "outputs": [],
   "source": [
    "df['employment_type'].unique()"
   ]
  },
  {
   "cell_type": "code",
   "execution_count": null,
   "id": "2612b761-b980-4158-8d95-20a45e2a97a6",
   "metadata": {},
   "outputs": [],
   "source": [
    "size_map = {\n",
    "    'S': 'Small',\n",
    "    'M': 'Medium',\n",
    "    'L': 'Large'\n",
    "}\n",
    "\n",
    "df['company_size'] = df['company_size'].map(size_map)"
   ]
  },
  {
   "cell_type": "code",
   "execution_count": null,
   "id": "d605c275-4fd8-48fa-a17a-707afb869cb7",
   "metadata": {},
   "outputs": [],
   "source": [
    "df['company_size'].unique()"
   ]
  },
  {
   "cell_type": "code",
   "execution_count": null,
   "id": "b2fb4f1a-961e-4582-8b90-db1cc6cafea5",
   "metadata": {},
   "outputs": [],
   "source": [
    "remote_map = {\n",
    "    0: 'On-site',\n",
    "    50: 'Hybrid',\n",
    "    100: 'Fully Remote'\n",
    "}\n",
    "\n",
    "df['remote_ratio'] = df['remote_ratio'].map(remote_map)"
   ]
  },
  {
   "cell_type": "code",
   "execution_count": null,
   "id": "29cf2a0e-1a0a-448c-a6d1-2c115b90fe8f",
   "metadata": {},
   "outputs": [],
   "source": [
    "df['remote_ratio'].unique()"
   ]
  },
  {
   "cell_type": "markdown",
   "id": "e600da57-51eb-4cc2-8df5-7c74cfc6759a",
   "metadata": {},
   "source": [
    "#### *Extracting Month from posting date*"
   ]
  },
  {
   "cell_type": "code",
   "execution_count": null,
   "id": "e5b4ecae-a49b-46f1-bd6c-75a05c715898",
   "metadata": {},
   "outputs": [],
   "source": [
    "df['posting_date'] = pd.to_datetime(df['posting_date'], format='%d-%m-%Y')\n",
    "df['posting_month'] = df['posting_date'].dt.strftime('%B')"
   ]
  },
  {
   "cell_type": "code",
   "execution_count": null,
   "id": "0c4c1664-1019-437b-bf05-54a078144650",
   "metadata": {},
   "outputs": [],
   "source": [
    "df['posting_month'].unique()"
   ]
  },
  {
   "cell_type": "code",
   "execution_count": null,
   "id": "fc94a1c1-7ade-4958-ba4c-1bfc42328d9b",
   "metadata": {},
   "outputs": [],
   "source": [
    "df['posting_month'].value_counts()"
   ]
  },
  {
   "cell_type": "markdown",
   "id": "4ea97452-ff02-48da-8953-92f70fcfca14",
   "metadata": {},
   "source": [
    "#### *Extracting Month from Application deadline*"
   ]
  },
  {
   "cell_type": "code",
   "execution_count": null,
   "id": "32ce2ef4-ce19-4d17-8c68-a5e80464f79c",
   "metadata": {},
   "outputs": [],
   "source": [
    "df['application_deadline'] = pd.to_datetime(df['application_deadline'], format='%d-%m-%Y')\n",
    "df['application_month'] = df['application_deadline'].dt.strftime('%B')"
   ]
  },
  {
   "cell_type": "code",
   "execution_count": null,
   "id": "03ad1b3e-4512-48d7-a414-ed420a17b6de",
   "metadata": {},
   "outputs": [],
   "source": [
    "df['application_month'].unique()"
   ]
  },
  {
   "cell_type": "code",
   "execution_count": null,
   "id": "6c0d8fa3-6b82-4a25-82ca-5603cd1d1944",
   "metadata": {},
   "outputs": [],
   "source": [
    "df['application_month'].value_counts()"
   ]
  },
  {
   "cell_type": "markdown",
   "id": "1d9efc46-2976-4c32-9b79-f795799c6520",
   "metadata": {},
   "source": [
    "#### *Feature Enginerring*"
   ]
  },
  {
   "cell_type": "code",
   "execution_count": null,
   "id": "e330a022-a7b0-4041-ba79-50131e002ec9",
   "metadata": {},
   "outputs": [],
   "source": [
    "df['application_duration'] = (df['application_deadline'] - df['posting_date']).dt.days"
   ]
  },
  {
   "cell_type": "code",
   "execution_count": null,
   "id": "41f6620c-960c-4e56-b395-911117cea27f",
   "metadata": {},
   "outputs": [],
   "source": [
    "df['application_duration'].unique()"
   ]
  },
  {
   "cell_type": "code",
   "execution_count": null,
   "id": "9108206b-cf61-4c52-9739-d2d55807f408",
   "metadata": {},
   "outputs": [],
   "source": [
    "df['application_duration'].describe()"
   ]
  },
  {
   "cell_type": "code",
   "execution_count": null,
   "id": "0669dae3-6409-4486-86cb-1bead2eea29e",
   "metadata": {},
   "outputs": [],
   "source": [
    "bins = [0, 20, 40, 60, 100]\n",
    "labels = ['Short', 'Medium', 'Long', 'Very Long']\n",
    "df['application_duration_category'] = pd.cut(df['application_duration'], bins=bins, labels=labels)"
   ]
  },
  {
   "cell_type": "code",
   "execution_count": null,
   "id": "085413dd-2378-406a-a46d-843321ec9b1c",
   "metadata": {},
   "outputs": [],
   "source": [
    "df['application_duration_category'].unique()"
   ]
  },
  {
   "cell_type": "markdown",
   "id": "352efc9f-dec9-480e-beaf-5a28d03df223",
   "metadata": {},
   "source": [
    "#### *Renaming the columns*"
   ]
  },
  {
   "cell_type": "code",
   "execution_count": null,
   "id": "9d225eea-be0c-454d-aeec-1f144c4156dc",
   "metadata": {},
   "outputs": [],
   "source": [
    "print(df.columns)"
   ]
  },
  {
   "cell_type": "code",
   "execution_count": null,
   "id": "cde3472f-1996-4751-b0a1-de6f3ef66d4f",
   "metadata": {},
   "outputs": [],
   "source": [
    "# Example: rename specific columns\n",
    "df.rename(columns={\n",
    "    'job_title': 'Job_Title',\n",
    "    'salary_usd': 'Salary_USD',\n",
    "    'experience_level': 'Experience_Level',\n",
    "    'employment_type': 'Employment_Type',\n",
    "    'company_location': 'Company_Location',\n",
    "    'company_size' : 'Company_Size',\n",
    "    'employee_residence': 'Employee_Residence',\n",
    "    'remote_ratio': 'Remote_Ratio',\n",
    "    'required_skills': 'Required_Skills',\n",
    "    'education_required': 'Education_Required',\n",
    "    'years_experience' : 'Years_Experience',\n",
    "    'industry': 'Industry',\n",
    "    'posting_date': 'Posting_Date',\n",
    "    'application_deadline' : 'Application_Deadline',\n",
    "    'benefits_score' : 'Benefits_Score',\n",
    "    'company_name':'Company_Name',\n",
    "    'posting_month': 'Posting_Month',\n",
    "    'application_month' : 'Application_Month', \n",
    "    'application_duration' : 'Application_Duration',\n",
    "     'application_duration_category': 'Application_Duration_Category'\n",
    "}, inplace=True)"
   ]
  },
  {
   "cell_type": "code",
   "execution_count": null,
   "id": "7d483405-6231-4e19-805e-a37ba903615c",
   "metadata": {},
   "outputs": [],
   "source": [
    "df.head(3)"
   ]
  },
  {
   "cell_type": "markdown",
   "id": "374256fb-c520-4723-a4af-4c25aeba6878",
   "metadata": {},
   "source": [
    "#### *Check how many duplicate rows exist*"
   ]
  },
  {
   "cell_type": "code",
   "execution_count": null,
   "id": "a7708407-73a4-4969-bda8-a2ecf987f5e9",
   "metadata": {},
   "outputs": [],
   "source": [
    "duplicate_count = df.duplicated().sum()\n",
    "print(f\"Number of duplicate rows: {duplicate_count}\")"
   ]
  },
  {
   "cell_type": "code",
   "execution_count": null,
   "id": "8b862a85-52dd-4b19-9b46-3700d858fb77",
   "metadata": {},
   "outputs": [],
   "source": [
    "print(df.columns)"
   ]
  },
  {
   "cell_type": "markdown",
   "id": "52fb5a92-d4e8-406e-b529-c299a09078d7",
   "metadata": {},
   "source": [
    "#### *Categorizing the columns on the basis of their types*"
   ]
  },
  {
   "cell_type": "code",
   "execution_count": null,
   "id": "cdcc825f-5095-4dcd-ab3d-8d8c535cac16",
   "metadata": {},
   "outputs": [],
   "source": [
    "continuous = ['Salary_USD', 'Years_Experience', 'Benefits_Score', 'Application_Duration']\n",
    "\n",
    "categorical = [\n",
    "    'Job_Title', 'Experience_Level', 'Employment_Type', 'Company_Size',\n",
    "    'Education_Required', 'Industry', 'Company_Name', 'Application_Duration_Category'\n",
    "]\n",
    "\n",
    "count = ['Company_Location', 'Employee_Residence']\n",
    "\n",
    "time = ['Posting_Date', 'Application_Deadline', 'Posting_Month', 'Application_Month']\n",
    "\n",
    "text = ['Required_Skills']  # Multi-label, handle separately\n",
    "\n",
    "special_case = ['Remote_Ratio']  # Limited discrete values (0, 50, 100)"
   ]
  },
  {
   "cell_type": "markdown",
   "id": "81c22d6a-f32c-47f3-b66d-84137becd568",
   "metadata": {},
   "source": [
    "### *Data Analysis*\n",
    "#### *Business Insights Extraction*"
   ]
  },
  {
   "cell_type": "markdown",
   "id": "7c1e0b9f-9af0-42e3-8d2a-0ecae1991e2d",
   "metadata": {},
   "source": [
    "#### *Univariate Analysis - Continous Variable*"
   ]
  },
  {
   "cell_type": "code",
   "execution_count": null,
   "id": "f4ea5e0f-503d-4848-8f73-460a65a51cb2",
   "metadata": {},
   "outputs": [],
   "source": [
    "continuous = ['Salary_USD', 'Years_Experience', 'Benefits_Score', 'Application_Duration']"
   ]
  },
  {
   "cell_type": "markdown",
   "id": "50ed64c0-b89f-4225-b459-2f8b5d86e838",
   "metadata": {},
   "source": [
    "#### 🔍 *1. What is the overall distribution of salaries in AI job roles across 2025? Are there any noticeable outliers or skewness?*"
   ]
  },
  {
   "cell_type": "code",
   "execution_count": null,
   "id": "ddae85e1-4690-4e39-8cac-825be1142a4c",
   "metadata": {},
   "outputs": [],
   "source": [
    "plt.figure(figsize=(14,5))\n",
    "sns.histplot(df['Salary_USD'], bins=50, kde=True, color='skyblue')\n",
    "plt.title('Distribution of AI Salaries (USD)')\n",
    "plt.xlabel('Salary in USD')\n",
    "plt.ylabel('Frequency')\n",
    "plt.show()\n",
    "\n",
    "print(df['Salary_USD'].describe())"
   ]
  },
  {
   "cell_type": "markdown",
   "id": "cb2e5f1d-e0e6-4336-aad3-8ebd098b32e6",
   "metadata": {},
   "source": [
    "#### 🔍 *2. What is the typical experience required for AI roles? Are most jobs for juniors, mid-levels, or seniors?*"
   ]
  },
  {
   "cell_type": "code",
   "execution_count": null,
   "id": "a38ec152-56ad-455c-8788-22481b7e408d",
   "metadata": {},
   "outputs": [],
   "source": [
    "plt.figure(figsize=(14,5))\n",
    "sns.histplot(df['Years_Experience'], bins=20, kde=True, color='orange')\n",
    "plt.title('Distribution of Required Years of Experience')\n",
    "plt.xlabel('Years of Experience')\n",
    "plt.ylabel('Frequency')\n",
    "plt.show()\n",
    "\n",
    "print(df['Years_Experience'].describe())"
   ]
  },
  {
   "cell_type": "markdown",
   "id": "51f387c0-aed8-4e6a-9c73-d72815b0a85b",
   "metadata": {},
   "source": [
    "#### 🔍 *3. How are companies rating their job benefits for AI roles? Is there a consistent scoring trend?*"
   ]
  },
  {
   "cell_type": "code",
   "execution_count": null,
   "id": "2a24d226-0201-4d16-949c-c7dbb966b90f",
   "metadata": {},
   "outputs": [],
   "source": [
    "plt.figure(figsize=(14,5))\n",
    "sns.histplot(df['Benefits_Score'], bins=25, kde=True, color='green')\n",
    "plt.title('Distribution of Benefits Score')\n",
    "plt.xlabel('Benefits Score')\n",
    "plt.ylabel('Frequency')\n",
    "plt.show()\n",
    "\n",
    "print(df['Benefits_Score'].describe())"
   ]
  },
  {
   "cell_type": "markdown",
   "id": "a0be34df-e37b-4250-a138-f55a7c85c01b",
   "metadata": {},
   "source": [
    "#### 🔍 *4. How much time do companies typically allow for job applications? Are deadlines tight or relaxed?*"
   ]
  },
  {
   "cell_type": "code",
   "execution_count": null,
   "id": "8b2dd445-9f29-4dcd-ab32-71e634960cdf",
   "metadata": {},
   "outputs": [],
   "source": [
    "plt.figure(figsize=(14,5))\n",
    "sns.histplot(df['Application_Duration'], bins=30, kde=True, color='purple')\n",
    "plt.title('Distribution of Application Duration (days)')\n",
    "plt.xlabel('Duration in Days')\n",
    "plt.ylabel('Frequency')\n",
    "plt.show()\n",
    "\n",
    "print(df['Application_Duration'].describe())"
   ]
  },
  {
   "cell_type": "markdown",
   "id": "9def7469-09ee-4b30-aeec-22495f1f589e",
   "metadata": {},
   "source": [
    "#### *Univariate Analysis - CategoricalVariable*"
   ]
  },
  {
   "cell_type": "code",
   "execution_count": null,
   "id": "8775ec6e-11fd-4ab7-94e8-2cce24deec3e",
   "metadata": {},
   "outputs": [],
   "source": [
    "categorical = [\n",
    "    'Job_Title', 'Experience_Level', 'Employment_Type', 'Company_Size',\n",
    "    'Education_Required', 'Industry', 'Company_Name', 'Application_Duration_Category'\n",
    "]"
   ]
  },
  {
   "cell_type": "markdown",
   "id": "c0323775-3c22-4faa-9927-9ff378e30da9",
   "metadata": {},
   "source": [
    "#### 🔍 *5.What are the most common job titles in AI roles?*"
   ]
  },
  {
   "cell_type": "code",
   "execution_count": null,
   "id": "6ed53f66-0150-47e7-83f2-a6df2a799fcc",
   "metadata": {},
   "outputs": [],
   "source": [
    "df['Job_Title'].value_counts().head(10).plot(kind='barh', figsize=(10,5), color='skyblue')\n",
    "plt.title('Top 10 Most Common Job Titles')\n",
    "plt.xlabel('Number of Job Postings')\n",
    "plt.gca().invert_yaxis()\n",
    "plt.show()"
   ]
  },
  {
   "cell_type": "markdown",
   "id": "6cc2b36a-aba6-4b99-89e5-fe91b808c926",
   "metadata": {},
   "source": [
    "#### 🔍 *6. How is experience level distributed?*"
   ]
  },
  {
   "cell_type": "code",
   "execution_count": null,
   "id": "8afad46e-9369-4666-b63e-6fbf52b779f7",
   "metadata": {},
   "outputs": [],
   "source": [
    "df['Experience_Level'].value_counts().plot(kind='bar', color='coral')\n",
    "plt.title('Distribution of Experience Levels')\n",
    "plt.ylabel('Count')\n",
    "plt.xlabel('Experience Level')\n",
    "plt.show()"
   ]
  },
  {
   "cell_type": "markdown",
   "id": "17dfa365-4951-4afc-998c-74523849546d",
   "metadata": {},
   "source": [
    "#### 🔍 *7. What are the dominant employment types in the AI market?*"
   ]
  },
  {
   "cell_type": "code",
   "execution_count": null,
   "id": "ad645598-b10b-4eb5-9aba-e894b92614e8",
   "metadata": {},
   "outputs": [],
   "source": [
    "df['Employment_Type'].value_counts().plot(kind='pie', autopct='%1.1f%%', startangle=90, colors=['#ff9999','#66b3ff','#99ff99','#ffcc99'])\n",
    "plt.title('Employment Type Distribution')\n",
    "plt.ylabel('')\n",
    "plt.show()"
   ]
  },
  {
   "cell_type": "markdown",
   "id": "24ff96b3-2e75-4c24-899f-255477a4be5f",
   "metadata": {},
   "source": [
    "#### 🔍 *8. How is company size represented?*"
   ]
  },
  {
   "cell_type": "code",
   "execution_count": null,
   "id": "1f20063e-10f0-4d2a-a915-b8cefe8ae806",
   "metadata": {},
   "outputs": [],
   "source": [
    "sns.countplot(data=df, x='Company_Size', order=df['Company_Size'].value_counts().index, palette='Set2')\n",
    "plt.title('Company Size Distribution')\n",
    "plt.xlabel('Company Size')\n",
    "plt.ylabel('Count')\n",
    "plt.show()"
   ]
  },
  {
   "cell_type": "markdown",
   "id": "8e483731-2b91-4e0b-be64-04496c0ea76a",
   "metadata": {},
   "source": [
    "#### 🔍 *9. What education levels are most demanded?*"
   ]
  },
  {
   "cell_type": "code",
   "execution_count": null,
   "id": "64d8ab06-b7d3-44c5-9c09-f99f52cdcb3e",
   "metadata": {},
   "outputs": [],
   "source": [
    "df['Education_Required'].value_counts().plot(kind='bar', color='mediumpurple')\n",
    "plt.title('Education Requirement Distribution')\n",
    "plt.xlabel('Education Level')\n",
    "plt.ylabel('Number of Jobs')\n",
    "plt.show()"
   ]
  },
  {
   "cell_type": "markdown",
   "id": "78e93f88-0260-4df4-9cdf-39a1283606d0",
   "metadata": {},
   "source": [
    "#### 🔍 *10. Which industries are hiring the most for AI roles?*"
   ]
  },
  {
   "cell_type": "code",
   "execution_count": null,
   "id": "ab0f4d21-c58a-425a-8a27-4910cf221ac8",
   "metadata": {},
   "outputs": [],
   "source": [
    "df['Industry'].value_counts().head(10).plot(kind='barh', figsize=(8,5), color='orange')\n",
    "plt.title('Top 10 Hiring Industries')\n",
    "plt.xlabel('Job Postings')\n",
    "plt.gca().invert_yaxis()\n",
    "plt.show()"
   ]
  },
  {
   "cell_type": "markdown",
   "id": "39982d67-6c09-4ac4-870f-ca5e8f726b11",
   "metadata": {},
   "source": [
    "#### 🔍*11. Which companies are leading in AI job postings?*"
   ]
  },
  {
   "cell_type": "code",
   "execution_count": null,
   "id": "0a2a5e8b-c1d1-4b48-8f3e-ce01b435da1d",
   "metadata": {},
   "outputs": [],
   "source": [
    "df['Company_Name'].value_counts().head(10).plot(kind='barh', figsize=(8,5), color='teal')\n",
    "plt.title('Top 10 Companies Hiring for AI Roles')\n",
    "plt.xlabel('Job Postings')\n",
    "plt.gca().invert_yaxis()\n",
    "plt.show()"
   ]
  },
  {
   "cell_type": "markdown",
   "id": "17c14d20-6dc7-4365-9fef-3b58a374eda1",
   "metadata": {},
   "source": [
    "#### 🔍 *12. How long are companies keeping applications open?*"
   ]
  },
  {
   "cell_type": "code",
   "execution_count": null,
   "id": "564c03db-6383-47c4-9676-f74b6d22145d",
   "metadata": {},
   "outputs": [],
   "source": [
    "sns.countplot(data=df, x='Application_Duration_Category', palette='coolwarm', order=sorted(df['Application_Duration_Category'].unique()))\n",
    "plt.title('Application Duration Category Distribution')\n",
    "plt.xlabel('Application Duration (days)')\n",
    "plt.ylabel('Count')\n",
    "plt.show()"
   ]
  },
  {
   "cell_type": "markdown",
   "id": "cada785f-eb03-45bf-959a-ca3b4c694a81",
   "metadata": {},
   "source": [
    "#### *Univariate Analysis - CategoricalVariable*"
   ]
  },
  {
   "cell_type": "code",
   "execution_count": null,
   "id": "310a6a44-808f-4e00-a206-2ca55e76a39a",
   "metadata": {},
   "outputs": [],
   "source": [
    "count = ['Company_Location', 'Employee_Residence']"
   ]
  },
  {
   "cell_type": "markdown",
   "id": "3cdabd66-d5b8-4bdb-bfcd-0a6db34d3648",
   "metadata": {},
   "source": [
    "#### 🔍*13. Which countries have the most AI job postings*"
   ]
  },
  {
   "cell_type": "code",
   "execution_count": null,
   "id": "94e18482-3fab-4fa4-8dec-b8881e7721b1",
   "metadata": {},
   "outputs": [],
   "source": [
    "df['Company_Location'].value_counts().head(10).plot(kind='barh', figsize=(8,5), color='lightskyblue')\n",
    "plt.title('Top 10 Company Locations for AI Jobs')\n",
    "plt.xlabel('Number of Postings')\n",
    "plt.gca().invert_yaxis()\n",
    "plt.show()"
   ]
  },
  {
   "cell_type": "markdown",
   "id": "7a396499-9a02-44f7-a04e-42be2aa7e4f0",
   "metadata": {},
   "source": [
    "#### 🔍 *14. From where are most employees working*"
   ]
  },
  {
   "cell_type": "code",
   "execution_count": null,
   "id": "5f730d64-ec53-4e07-a602-108d4e4470cc",
   "metadata": {},
   "outputs": [],
   "source": [
    "df['Employee_Residence'].value_counts().head(10).plot(kind='barh', figsize=(8,5), color='lightgreen')\n",
    "plt.title('Top 10 Employee Residences')\n",
    "plt.xlabel('Number of Employees')\n",
    "plt.gca().invert_yaxis()\n",
    "plt.show()"
   ]
  },
  {
   "cell_type": "markdown",
   "id": "7de4abff-1cfc-4a6b-9f22-d61e346a7e34",
   "metadata": {},
   "source": [
    "#### *Univariate Analysis - Time Columns*"
   ]
  },
  {
   "cell_type": "code",
   "execution_count": null,
   "id": "a1ff558b-6b80-485c-be77-dd417f504d13",
   "metadata": {},
   "outputs": [],
   "source": [
    "time = ['Posting_Date', 'Application_Deadline', 'Posting_Month', 'Application_Month']"
   ]
  },
  {
   "cell_type": "markdown",
   "id": "06c45357-cd64-4c4d-8fce-5679e2f63b41",
   "metadata": {},
   "source": [
    "#### 🔍 *15. How has AI job posting activity varied over time?*"
   ]
  },
  {
   "cell_type": "code",
   "execution_count": null,
   "id": "8732d288-0f35-42f5-b733-cfa04061e3a4",
   "metadata": {},
   "outputs": [],
   "source": [
    "df['Posting_Date'] = pd.to_datetime(df['Posting_Date'])\n",
    "posting_trend = df['Posting_Date'].value_counts().sort_index()\n",
    "posting_trend.plot(figsize=(10,4), title='Job Postings Over Time', color='teal')\n",
    "plt.ylabel('Number of Postings')\n",
    "plt.xlabel('Date')\n",
    "plt.show()"
   ]
  },
  {
   "cell_type": "markdown",
   "id": "57b41789-7fc8-47c0-8f13-2eb1480ed0b0",
   "metadata": {},
   "source": [
    "#### 🔍*16. Do deadlines follow any time patterns?*"
   ]
  },
  {
   "cell_type": "code",
   "execution_count": null,
   "id": "06bab190-5bd6-47ef-8f3a-73382aa6db46",
   "metadata": {},
   "outputs": [],
   "source": [
    "df['Application_Deadline'] = pd.to_datetime(df['Application_Deadline'])\n",
    "deadline_trend = df['Application_Deadline'].value_counts().sort_index()\n",
    "deadline_trend.plot(figsize=(10,4), title='Application Deadlines Over Time', color='orange')\n",
    "plt.ylabel('Number of Deadlines')\n",
    "plt.xlabel('Date')\n",
    "plt.show()"
   ]
  },
  {
   "cell_type": "markdown",
   "id": "4af61daf-2e6b-4e8a-853e-27bec7436cc8",
   "metadata": {},
   "source": [
    "#### 🔍 *17. Which months saw the most job postings?*"
   ]
  },
  {
   "cell_type": "code",
   "execution_count": null,
   "id": "8dc69e02-8468-4f2f-80b7-5edf13108ed2",
   "metadata": {},
   "outputs": [],
   "source": [
    "df['Posting_Month'].value_counts().sort_index().plot(kind='bar', color='dodgerblue')\n",
    "plt.title('Job Postings by Month')\n",
    "plt.xlabel('Month')\n",
    "plt.ylabel('Number of Postings')\n",
    "plt.show()"
   ]
  },
  {
   "cell_type": "markdown",
   "id": "6fdb380a-f9e7-4c1c-8494-9b07a1f0dbea",
   "metadata": {},
   "source": [
    "#### 🔍*18. Which months had the most application deadlines?*"
   ]
  },
  {
   "cell_type": "code",
   "execution_count": null,
   "id": "69b12371-2b41-4bfa-82f7-eba9201a8807",
   "metadata": {},
   "outputs": [],
   "source": [
    "df['Application_Month'].value_counts().sort_index().plot(kind='bar', color='salmon')\n",
    "plt.title('Application Deadlines by Month')\n",
    "plt.xlabel('Month')\n",
    "plt.ylabel('Number of Deadlines')\n",
    "plt.show()"
   ]
  },
  {
   "cell_type": "markdown",
   "id": "000977d5-d318-4783-8362-7e529ffcd4ea",
   "metadata": {},
   "source": [
    "#### *Univariate Analysis - special case Columns*"
   ]
  },
  {
   "cell_type": "code",
   "execution_count": null,
   "id": "afa72998-ee50-4ee8-b2f3-903a1baa65f6",
   "metadata": {},
   "outputs": [],
   "source": [
    "# Check distribution of remote_ratio values\n",
    "df['Remote_Ratio'].value_counts(normalize=True).plot(kind='bar', color='mediumseagreen')\n",
    "plt.title('Distribution of Remote Work Ratio')\n",
    "plt.xlabel('Remote Ratio (%)')\n",
    "plt.ylabel('Proportion of Jobs')\n",
    "plt.show()"
   ]
  },
  {
   "cell_type": "markdown",
   "id": "6750b592-47a5-4241-8ca8-ea2361a8c833",
   "metadata": {},
   "source": [
    "#### *Univariate Analysis - Text Columns*"
   ]
  },
  {
   "cell_type": "code",
   "execution_count": null,
   "id": "800713dd-edf9-4775-9764-afef7075e0f1",
   "metadata": {},
   "outputs": [],
   "source": [
    "# Assuming skills are comma-separated strings\n",
    "skills_series = df['Required_Skills'].dropna().str.split(',')\n",
    "\n",
    "all_skills = [skill.strip() for sublist in skills_series for skill in sublist]\n",
    "\n",
    "skill_counts = Counter(all_skills)\n",
    "\n",
    "# Show top 15 skills\n",
    "top_skills = skill_counts.most_common(15)\n",
    "\n",
    "skills_df = pd.DataFrame(top_skills, columns=['Skill', 'Count'])\n",
    "\n",
    "skills_df.plot.bar(x='Skill', y='Count', legend=False, figsize=(12,5), color='coral')\n",
    "plt.title('Top 15 Required Skills in AI Job Postings')\n",
    "plt.ylabel('Count')\n",
    "plt.xticks(rotation=45)\n",
    "plt.show()"
   ]
  },
  {
   "cell_type": "markdown",
   "id": "24d480b3-348c-4803-95b8-8267dd5955cc",
   "metadata": {
    "jp-MarkdownHeadingCollapsed": true
   },
   "source": [
    "#### *Bivariate Analysis*"
   ]
  },
  {
   "cell_type": "markdown",
   "id": "734a8f6d-64d0-4558-b1e6-3544cd17374a",
   "metadata": {},
   "source": [
    "#### 🔍 *1. How does salary vary by experience level?*"
   ]
  },
  {
   "cell_type": "code",
   "execution_count": null,
   "id": "928fe3e7-0653-4e0e-9a14-a3fa851b88a9",
   "metadata": {},
   "outputs": [],
   "source": [
    "# Group average salary by experience level\n",
    "avg_salary_exp = df.groupby('Experience_Level')['Salary_USD'].mean().sort_values()\n",
    "\n",
    "avg_salary_exp.plot(kind='bar', color='lightgreen', figsize=(8, 5))\n",
    "plt.title('Average Salary by Experience Level')\n",
    "plt.xlabel('Experience Level')\n",
    "plt.ylabel('Average Salary (USD)')\n",
    "plt.xticks(rotation=0)\n",
    "plt.show()"
   ]
  },
  {
   "cell_type": "markdown",
   "id": "280d9e1f-327e-4f0c-88ba-fc4b42ea1508",
   "metadata": {},
   "source": [
    "#### 🔍 *2. How does company size affect salary?*"
   ]
  },
  {
   "cell_type": "code",
   "execution_count": null,
   "id": "c9068547-4ff7-432e-92e3-b0fb35a19a6e",
   "metadata": {},
   "outputs": [],
   "source": [
    "# Median salary grouped by company size\n",
    "median_salary_company = df.groupby('Company_Size')['Salary_USD'].median().sort_values()\n",
    "\n",
    "median_salary_company.plot(kind='bar', color='steelblue', figsize=(8, 5))\n",
    "plt.title('Median Salary by Company Size')\n",
    "plt.xlabel('Company Size')\n",
    "plt.ylabel('Median Salary (USD)')\n",
    "plt.show()"
   ]
  },
  {
   "cell_type": "markdown",
   "id": "a97df3be-c8ab-4b00-9248-75f8386f2666",
   "metadata": {},
   "source": [
    "#### 🔍 *3. How does remote flexibility (Remote Ratio) impact salary?*"
   ]
  },
  {
   "cell_type": "code",
   "execution_count": null,
   "id": "4a4597bc-8347-431d-9bc8-cf638a9672ef",
   "metadata": {},
   "outputs": [],
   "source": [
    "df.groupby('Remote_Ratio')['Salary_USD'].mean().plot(kind='bar', color='coral', figsize=(8, 5))\n",
    "plt.title('Average Salary by Remote Ratio')\n",
    "plt.xlabel('Remote Ratio (%)')\n",
    "plt.ylabel('Average Salary (USD)')\n",
    "plt.show()"
   ]
  },
  {
   "cell_type": "markdown",
   "id": "ea9c78f9-ea77-4c22-9362-f6b4a886bae6",
   "metadata": {},
   "source": [
    "#### 🔍 *4. Which employment types offer the highest salaries?*"
   ]
  },
  {
   "cell_type": "code",
   "execution_count": null,
   "id": "a6c5655e-0b9a-40a6-af1a-a8781139981b",
   "metadata": {},
   "outputs": [],
   "source": [
    "df.groupby('Employment_Type')['Salary_USD'].mean().sort_values().plot(kind='bar', color='orchid', figsize=(8, 5))\n",
    "plt.title('Average Salary by Employment Type')\n",
    "plt.xlabel('Employment Type')\n",
    "plt.ylabel('Average Salary (USD)')\n",
    "plt.show()"
   ]
  },
  {
   "cell_type": "markdown",
   "id": "797de03b-288b-4abb-a716-25e4fd966fa7",
   "metadata": {},
   "source": [
    "#### 🔍 *5. What’s the average salary for different education requirements?*"
   ]
  },
  {
   "cell_type": "code",
   "execution_count": null,
   "id": "337000fe-abb5-44bf-af37-0a0a86491064",
   "metadata": {},
   "outputs": [],
   "source": [
    "df.groupby('Education_Required')['Salary_USD'].mean().sort_values().plot(kind='bar', color='goldenrod', figsize=(9, 5))\n",
    "plt.title('Average Salary by Education Level')\n",
    "plt.xlabel('Education Level')\n",
    "plt.ylabel('Average Salary (USD)')\n",
    "plt.xticks(rotation=45)\n",
    "plt.show()"
   ]
  },
  {
   "cell_type": "markdown",
   "id": "02254c85-b61c-4ece-a92b-0b5c223b9c31",
   "metadata": {},
   "source": [
    "#### 🔍 *6. Do different industries pay significantly different salaries?*"
   ]
  },
  {
   "cell_type": "code",
   "execution_count": null,
   "id": "ec587b19-63e3-4ca8-bd9d-700211bfed53",
   "metadata": {},
   "outputs": [],
   "source": [
    "top_industries = df['Industry'].value_counts().head(10).index\n",
    "filtered = df[df['Industry'].isin(top_industries)]\n",
    "\n",
    "filtered.groupby('Industry')['Salary_USD'].mean().sort_values().plot(kind='bar', color='mediumseagreen', figsize=(10, 5))\n",
    "plt.title('Average Salary in Top Industries')\n",
    "plt.xlabel('Industry')\n",
    "plt.ylabel('Average Salary (USD)')\n",
    "plt.xticks(rotation=45)\n",
    "plt.show()"
   ]
  },
  {
   "cell_type": "markdown",
   "id": "82794de3-1722-4138-9125-9f077f87b9df",
   "metadata": {},
   "source": [
    "#### 🔍 *7. What’s the relationship between benefits score and salary?*"
   ]
  },
  {
   "cell_type": "code",
   "execution_count": null,
   "id": "211e49a5-e3ca-4efb-a9d0-8a9c8bd63db7",
   "metadata": {},
   "outputs": [],
   "source": [
    "sns.scatterplot(data=df, x='Benefits_Score', y='Salary_USD', color='teal')\n",
    "plt.title('Salary vs Benefits Score')\n",
    "plt.xlabel('Benefits Score')\n",
    "plt.ylabel('Salary (USD)')\n",
    "plt.show()"
   ]
  },
  {
   "cell_type": "markdown",
   "id": "d2a892cb-c27f-4e82-a649-938564b5ef19",
   "metadata": {},
   "source": [
    "#### 🔍 *8. Is salary influenced by years of experience?*"
   ]
  },
  {
   "cell_type": "code",
   "execution_count": null,
   "id": "7f065fba-6663-4d7c-afc9-50bb3d87abfc",
   "metadata": {},
   "outputs": [],
   "source": [
    "sns.scatterplot(data=df, x='Years_Experience', y='Salary_USD', color='tomato')\n",
    "plt.title('Salary vs Years of Experience')\n",
    "plt.xlabel('Years of Experience')\n",
    "plt.ylabel('Salary (USD)')\n",
    "plt.show()"
   ]
  },
  {
   "cell_type": "markdown",
   "id": "5394eada-8eb1-4bb3-b4ee-2bbe9492e559",
   "metadata": {},
   "source": [
    "#### 🔍 *9. How does remote ratio relate to employment type?*"
   ]
  },
  {
   "cell_type": "code",
   "execution_count": null,
   "id": "acbfef3d-f279-48ff-bc53-0ae70f2c6181",
   "metadata": {},
   "outputs": [],
   "source": [
    "ct = pd.crosstab(df['Remote_Ratio'], df['Employment_Type'], normalize='index')\n",
    "ct.plot(kind='bar', stacked=True, colormap='Set2', figsize=(9, 5))\n",
    "plt.title('Remote Ratio vs Employment Type')\n",
    "plt.xlabel('Remote Ratio (%)')\n",
    "plt.ylabel('Proportion')\n",
    "plt.legend(title='Employment Type')\n",
    "plt.show()"
   ]
  },
  {
   "cell_type": "markdown",
   "id": "50a0471b-c59c-4e9c-9356-466d4b16b644",
   "metadata": {},
   "source": [
    "#### 🔍 *10. How are experience levels distributed across company sizes?*"
   ]
  },
  {
   "cell_type": "code",
   "execution_count": null,
   "id": "07d45919-bc3e-4db0-9086-96b1a736c829",
   "metadata": {},
   "outputs": [],
   "source": [
    "ct = pd.crosstab(df['Company_Size'], df['Experience_Level'], normalize='index')\n",
    "ct.plot(kind='bar', stacked=True, colormap='Pastel1', figsize=(9, 5))\n",
    "plt.title('Company Size vs Experience Level')\n",
    "plt.xlabel('Company Size')\n",
    "plt.ylabel('Proportion')\n",
    "plt.legend(title='Experience Level')\n",
    "plt.show()"
   ]
  },
  {
   "cell_type": "markdown",
   "id": "7e2afe51-fc54-4ea3-b97c-f09d37a57786",
   "metadata": {},
   "source": [
    "#### 🔍 *11. What are the most frequently required skills for AI jobs?*"
   ]
  },
  {
   "cell_type": "code",
   "execution_count": null,
   "id": "24b5be59-ef0a-4ddc-bf29-f529282ac570",
   "metadata": {},
   "outputs": [],
   "source": [
    "from sklearn.feature_extraction.text import CountVectorizer\n",
    "\n",
    "skills = df['Required_Skills'].dropna()\n",
    "vectorizer = CountVectorizer()\n",
    "X = vectorizer.fit_transform(skills)\n",
    "\n",
    "skill_counts = pd.Series(X.toarray().sum(axis=0), index=vectorizer.get_feature_names_out()).sort_values(ascending=False)\n",
    "skill_counts.head(20).plot(kind='bar', color='slateblue', figsize=(10, 5))\n",
    "plt.title('Top 20 Required Skills')\n",
    "plt.xlabel('Skill')\n",
    "plt.ylabel('Frequency')\n",
    "plt.show()"
   ]
  },
  {
   "cell_type": "markdown",
   "id": "19d5d672-e7aa-48d7-bf93-0d9ea0e71f10",
   "metadata": {},
   "source": [
    "#### *Multivariate Analysis*"
   ]
  },
  {
   "cell_type": "markdown",
   "id": "a2eeb70c-4249-4d1f-94c7-dab09f84339f",
   "metadata": {},
   "source": [
    "#### 🔍 *1. How do required skills and experience level together influence average salary?*"
   ]
  },
  {
   "cell_type": "code",
   "execution_count": null,
   "id": "c3a34449-396f-4c23-acd5-1622e5c41e06",
   "metadata": {},
   "outputs": [],
   "source": [
    "sns.set_style(\"whitegrid\")\n",
    "plt.figure(figsize=(14, 8))\n",
    "\n",
    "# Create pivot table with all three factors\n",
    "pivot = df.pivot_table(\n",
    "    values='Salary_USD',\n",
    "    index=['Experience_Level', 'Company_Size'],\n",
    "    columns='Remote_Ratio',\n",
    "    aggfunc='mean'\n",
    ").stack().reset_index(name='Avg_Salary')\n",
    "\n",
    "# Create a faceted bar plot\n",
    "g = sns.FacetGrid(\n",
    "    pivot, \n",
    "    col='Company_Size',\n",
    "    col_wrap=3,\n",
    "    height=4,\n",
    "    aspect=1.2,\n",
    "    sharey=True\n",
    ")\n",
    "g.map_dataframe(\n",
    "    sns.barplot,\n",
    "    x='Experience_Level',\n",
    "    y='Avg_Salary',\n",
    "    hue='Remote_Ratio',\n",
    "    palette='viridis',\n",
    "    errorbar=None\n",
    ")\n",
    "\n",
    "# Customize the plot\n",
    "g.set_titles(\"Company Size: {col_name}\")\n",
    "g.set_axis_labels(\"Experience Level\", \"Average Salary (USD)\")\n",
    "g.fig.suptitle(\n",
    "    'Salary by Experience Level, Company Size & Remote Ratio',\n",
    "    y=1.05,\n",
    "    fontsize=16,\n",
    "    fontweight='bold'\n",
    ")\n",
    "\n",
    "# Adjust legend (without value annotations)\n",
    "g.add_legend(\n",
    "    title='Remote Ratio',\n",
    "    bbox_to_anchor=(1.05, 0.5),\n",
    "    frameon=True\n",
    ")\n",
    "\n",
    "plt.tight_layout()\n",
    "plt.show()"
   ]
  },
  {
   "cell_type": "markdown",
   "id": "89aacc03-20e0-4b8a-b2e8-ad380f428ec9",
   "metadata": {},
   "source": [
    "#### 🔍 *2. Which combinations of job title and education level lead to higher salaries? (Top roles only)*"
   ]
  },
  {
   "cell_type": "code",
   "execution_count": null,
   "id": "e1258862-e1b2-4b35-a2ca-d755ff552675",
   "metadata": {},
   "outputs": [],
   "source": [
    "top_titles = df['Job_Title'].value_counts().head(10).index\n",
    "filtered = df[df['Job_Title'].isin(top_titles)]\n",
    "\n",
    "grouped = filtered.groupby(['Job_Title', 'Education_Required'])['Salary_USD'].mean().unstack()\n",
    "grouped.plot(kind='bar', figsize=(12,6), colormap='Set3')\n",
    "plt.title('Avg Salary by Job Title and Education Level')\n",
    "plt.xlabel('Job Title')\n",
    "plt.ylabel('Average Salary (USD)')\n",
    "plt.xticks(rotation=45)\n",
    "plt.tight_layout()\n",
    "plt.show()"
   ]
  },
  {
   "cell_type": "markdown",
   "id": "c298d1c5-1fe8-4322-ab73-6f64d04d7c11",
   "metadata": {},
   "source": [
    "#### 🔍 *3. How does company size, employment type, and remote ratio interact?*"
   ]
  },
  {
   "cell_type": "code",
   "execution_count": null,
   "id": "8e8ded06-6f0e-4cfd-ab8d-62e17c3d538c",
   "metadata": {},
   "outputs": [],
   "source": [
    "ct = pd.crosstab(\n",
    "    [df['Company_Size'], df['Employment_Type']],\n",
    "    df['Remote_Ratio'],\n",
    "    normalize='index'\n",
    ")\n",
    "\n",
    "ct.plot(kind='bar', stacked=True, colormap='coolwarm', figsize=(12,6))\n",
    "plt.title('Remote Ratio by Company Size and Employment Type')\n",
    "plt.xlabel('Company Size + Employment Type')\n",
    "plt.ylabel('Proportion')\n",
    "plt.tight_layout()\n",
    "plt.show()"
   ]
  },
  {
   "cell_type": "markdown",
   "id": "8c062417-0f1b-40fe-8c22-2e7ba51f7aed",
   "metadata": {},
   "source": [
    "#### 🔍 *4. How do required skills and experience level together influence average salary?*"
   ]
  },
  {
   "cell_type": "code",
   "execution_count": null,
   "id": "2bbd9da3-3f8d-48cc-a0bb-1bbece3c3a92",
   "metadata": {},
   "outputs": [],
   "source": [
    "# Step 1: Extract all skills and count their frequencies (manual alternative to CountVectorizer)\n",
    "all_skills = df['Required_Skills'].str.lower().str.split(',|;|and|&').explode().str.strip()\n",
    "skill_counts = all_skills.value_counts()\n",
    "\n",
    "# Get top 10 skills\n",
    "top_skills = skill_counts.head(10).index.tolist()\n",
    "\n",
    "# Step 2: Add binary columns for each top skill\n",
    "for skill in top_skills:\n",
    "    df[skill] = df['Required_Skills'].str.lower().str.contains(skill.lower(), na=False).astype(int)\n",
    "\n",
    "# Step 3: Group by experience level and calculate average salary for each skill\n",
    "plt.figure(figsize=(14, 6))\n",
    "\n",
    "for skill in top_skills:\n",
    "    # Calculate average salary by experience level for jobs requiring this skill\n",
    "    avg_salary = df[df[skill] == 1].groupby('Experience_Level')['Salary_USD'].mean()\n",
    "    plt.plot(avg_salary.index, avg_salary.values, label=skill, marker='o')\n",
    "\n",
    "plt.title('Average Salary by Top Skills and Experience Level')\n",
    "plt.xlabel('Experience Level')\n",
    "plt.ylabel('Average Salary (USD)')\n",
    "plt.legend(title='Skill', bbox_to_anchor=(1.05, 1), loc='upper left')\n",
    "plt.grid(True)\n",
    "plt.tight_layout()\n",
    "plt.show()"
   ]
  },
  {
   "cell_type": "markdown",
   "id": "846a37ea-acfb-48cc-96fe-80bb15c800c4",
   "metadata": {},
   "source": [
    "#### 🔍 *5. Which industries offer the best salary for each employment type?*"
   ]
  },
  {
   "cell_type": "code",
   "execution_count": null,
   "id": "46e603de-135c-4cd7-8d4f-49685a0a85f5",
   "metadata": {},
   "outputs": [],
   "source": [
    "# Pivot table: Avg salary per industry for each employment type\n",
    "pivot = df.pivot_table(\n",
    "    values='Salary_USD',\n",
    "    index='Industry',\n",
    "    columns='Employment_Type',\n",
    "    aggfunc='mean'\n",
    ")\n",
    "\n",
    "# Find the top-paying industry for each employment type\n",
    "best_industries = pivot.idxmax().reset_index()\n",
    "best_industries.columns = ['Employment_Type', 'Best_Paying_Industry']\n",
    "\n",
    "# Get their corresponding salaries\n",
    "best_salaries = pivot.max().reset_index()\n",
    "best_salaries.columns = ['Employment_Type', 'Highest_Salary_USD']\n",
    "\n",
    "# Combine results\n",
    "result = pd.merge(best_industries, best_salaries, on='Employment_Type')\n",
    "\n",
    "print(\"Top-paying industries for each employment type:\")\n",
    "print(result)\n",
    "\n",
    "# Visualize\n",
    "plt.figure(figsize=(12, 6))\n",
    "sns.barplot(\n",
    "    data=result,\n",
    "    x='Employment_Type',\n",
    "    y='Highest_Salary_USD',\n",
    "    hue='Best_Paying_Industry',\n",
    "    palette='viridis'\n",
    ")\n",
    "plt.title('Highest Paying Industries by Employment Type')\n",
    "plt.xlabel('Employment Type')\n",
    "plt.ylabel('Average Salary (USD)')\n",
    "plt.xticks(rotation=45)\n",
    "plt.legend(title='Industry', bbox_to_anchor=(1.05, 1), loc='upper left')\n",
    "plt.tight_layout()\n",
    "plt.show()"
   ]
  },
  {
   "cell_type": "markdown",
   "id": "0888844d-0f36-4f85-9236-b107ed721999",
   "metadata": {},
   "source": [
    "#### 🔍 *6. Do posting/application months affect salary across job roles?*"
   ]
  },
  {
   "cell_type": "code",
   "execution_count": null,
   "id": "23cfac74-c4d8-4a5e-a14e-9fb49d530aa0",
   "metadata": {},
   "outputs": [],
   "source": [
    "# Group data by month and job title, then calculate mean salary\n",
    "monthly_salary = df.groupby(['Posting_Month', 'Job_Title'])['Salary_USD'].mean().unstack().fillna(0)\n",
    "\n",
    "# Select top 5 highest-paying job titles (or most frequent)\n",
    "top_jobs = monthly_salary.mean().nlargest(5).index  # Alternative: .sum() for most frequent\n",
    "monthly_salary = monthly_salary[top_jobs]\n",
    "\n",
    "# --- Data Visualization ---\n",
    "plt.figure(figsize=(14, 7))\n",
    "sns.set_style(\"whitegrid\")  # Clean background with grid\n",
    "palette = sns.color_palette(\"husl\", n_colors=len(top_jobs))  # Vibrant color palette\n",
    "\n",
    "# Line Plot (Trend Analysis)\n",
    "sns.lineplot(\n",
    "    data=monthly_salary.reset_index().melt(id_vars='Posting_Month'),\n",
    "    x='Posting_Month',\n",
    "    y='value',\n",
    "    hue='Job_Title',\n",
    "    palette=palette,\n",
    "    linewidth=2.5,\n",
    "    marker='o',  # Add markers for each data point\n",
    "    markersize=8\n",
    ")\n",
    "\n",
    "# Enhancements\n",
    "plt.title('Monthly Trends in Average Salary for Top 5 Job Titles', fontsize=16, pad=20)\n",
    "plt.xlabel('Posting Month', fontsize=12)\n",
    "plt.ylabel('Average Salary (USD)', fontsize=12)\n",
    "plt.xticks(rotation=45)  # Rotate x-labels for readability\n",
    "plt.legend(title='Job Title', bbox_to_anchor=(1.05, 1), loc='upper left')  # Move legend outside\n",
    "\n",
    "# Add data labels for the highest and lowest points\n",
    "for job in top_jobs:\n",
    "    max_salary = monthly_salary[job].max()\n",
    "    min_salary = monthly_salary[job].min()\n",
    "    max_month = monthly_salary[job].idxmax()\n",
    "    min_month = monthly_salary[job].idxmin()\n",
    "    \n",
    "    plt.annotate(f\"${max_salary:,.0f}\", \n",
    "                 (max_month, max_salary),\n",
    "                 textcoords=\"offset points\",\n",
    "                 xytext=(0,10),\n",
    "                 ha='center',\n",
    "                 fontsize=9)\n",
    "    \n",
    "    plt.annotate(f\"${min_salary:,.0f}\", \n",
    "                 (min_month, min_salary),\n",
    "                 textcoords=\"offset points\",\n",
    "                 xytext=(0,-15),\n",
    "                 ha='center',\n",
    "                 fontsize=9)\n",
    "\n",
    "# Add a footnote for context\n",
    "plt.figtext(0.5, -0.1, \n",
    "            \"Note: Salaries are averaged across job postings per month.\", \n",
    "            ha=\"center\",\n",
    "            fontsize=10,\n",
    "            color='gray')\n",
    "\n",
    "plt.tight_layout()\n",
    "plt.show()"
   ]
  },
  {
   "cell_type": "markdown",
   "id": "f8ec702b-d962-41ec-98df-e4cef01ce384",
   "metadata": {},
   "source": [
    "#### 🔍 *7. How do application duration categories vary by experience level and education?*"
   ]
  },
  {
   "cell_type": "code",
   "execution_count": null,
   "id": "7d5160fc-015d-4152-95b7-432b12a1633f",
   "metadata": {},
   "outputs": [],
   "source": [
    "ct = pd.crosstab(\n",
    "    [df['Experience_Level'], df['Education_Required']],\n",
    "    df['Application_Duration_Category'],\n",
    "    normalize='index'\n",
    ")\n",
    "\n",
    "ct.plot(kind='bar', stacked=True, colormap='Paired', figsize=(14,6))\n",
    "plt.title('Application Duration Category by Experience and Education')\n",
    "plt.xlabel('Experience + Education')\n",
    "plt.ylabel('Proportion')\n",
    "plt.tight_layout()\n",
    "plt.show()"
   ]
  }
 ],
 "metadata": {
  "kernelspec": {
   "display_name": "Python 3 (ipykernel)",
   "language": "python",
   "name": "python3"
  },
  "language_info": {
   "codemirror_mode": {
    "name": "ipython",
    "version": 3
   },
   "file_extension": ".py",
   "mimetype": "text/x-python",
   "name": "python",
   "nbconvert_exporter": "python",
   "pygments_lexer": "ipython3",
   "version": "3.12.7"
  }
 },
 "nbformat": 4,
 "nbformat_minor": 5
}
